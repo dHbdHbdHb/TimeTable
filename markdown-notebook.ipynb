{
 "cells": [
  {
   "cell_type": "markdown",
   "metadata": {},
   "source": [
    "# Define API keys and libraries"
   ]
  },
  {
   "cell_type": "code",
   "execution_count": 7,
   "metadata": {},
   "outputs": [],
   "source": [
    "import requests\n",
    "api_key = 'da56733a-6d62-4da1-9d2f-4e882d46478b'    #511 API key\n"
   ]
  },
  {
   "attachments": {},
   "cell_type": "markdown",
   "metadata": {},
   "source": [
    "# Define method for calling API endpoints"
   ]
  },
  {
   "cell_type": "code",
   "execution_count": 45,
   "metadata": {},
   "outputs": [],
   "source": [
    "import untangle\n",
    "\n",
    "def get_timetables(bus_stop):\n",
    "    stop_monitoring_url = 'http://api.511.org/transit/StopMonitoring?api_key='+api_key+'&agency=SF'\n",
    "    PARAMS = {'StopPointRef':bus_stop}\n",
    "    response = requests.get(url = stop_monitoring_url, params = PARAMS)\n",
    "    return response.text\n"
   ]
  },
  {
   "cell_type": "code",
   "execution_count": null,
   "metadata": {},
   "outputs": [],
   "source": [
    "get_timetables('16121')"
   ]
  }
 ],
 "metadata": {
  "kernelspec": {
   "display_name": "Python 3.10.4 ('web_server')",
   "language": "python",
   "name": "python3"
  },
  "language_info": {
   "codemirror_mode": {
    "name": "ipython",
    "version": 3
   },
   "file_extension": ".py",
   "mimetype": "text/x-python",
   "name": "python",
   "nbconvert_exporter": "python",
   "pygments_lexer": "ipython3",
   "version": "3.10.4"
  },
  "orig_nbformat": 4,
  "vscode": {
   "interpreter": {
    "hash": "a7a3c7022bc3352558a5f72e1c2e2fe30ff5ae616daccf9daa5b4f7bb75825be"
   }
  }
 },
 "nbformat": 4,
 "nbformat_minor": 2
}
