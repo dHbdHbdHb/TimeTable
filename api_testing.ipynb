{
 "cells": [
  {
   "cell_type": "markdown",
   "metadata": {},
   "source": [
    "# Define API keys and libraries"
   ]
  },
  {
   "cell_type": "code",
   "execution_count": 9,
   "metadata": {},
   "outputs": [],
   "source": [
    "import json\n",
    "import requests"
   ]
  },
  {
   "cell_type": "code",
   "execution_count": null,
   "metadata": {},
   "outputs": [],
   "source": [
    "api_key = 'da56733a-6d62-4da1-9d2f-4e882d46478b'"
   ]
  },
  {
   "cell_type": "markdown",
   "metadata": {},
   "source": [
    "# Define functions for calling API endpoints"
   ]
  },
  {
   "cell_type": "code",
   "execution_count": 30,
   "metadata": {},
   "outputs": [],
   "source": [
    "def get_stop_monitoring(route, stop_code, api_key=api_key):\n",
    "    stop_monitoring_url = 'http://api.511.org/transit/StopMonitoring'\n",
    "    response = requests.get(\n",
    "        url = stop_monitoring_url,\n",
    "        params = {\n",
    "            'api_key': api_key,\n",
    "            'agency': 'SF',\n",
    "            'route': route,\n",
    "            'stopCode': stop_code,\n",
    "            'format': 'json'\n",
    "        }\n",
    "    )\n",
    "    decoded = response.content.decode('utf-8-sig') # strip byte order mark from response\n",
    "    return json.loads(decoded)"
   ]
  },
  {
   "cell_type": "code",
   "execution_count": null,
   "metadata": {},
   "outputs": [],
   "source": []
  },
  {
   "cell_type": "code",
   "execution_count": 31,
   "metadata": {},
   "outputs": [],
   "source": [
    "#example call\n",
    "route = '48'\n",
    "stop_code = '16121' #Portola Dr & Teresita Blvd\n",
    "resp = get_timetables(route, stop_code)"
   ]
  },
  {
   "cell_type": "code",
   "execution_count": 32,
   "metadata": {},
   "outputs": [
    {
     "data": {
      "text/plain": [
       "{'ServiceDelivery': {'ResponseTimestamp': '2023-01-18T01:23:34Z',\n",
       "  'ProducerRef': 'SF',\n",
       "  'Status': True,\n",
       "  'StopMonitoringDelivery': {'version': '1.4',\n",
       "   'ResponseTimestamp': '2023-01-18T01:23:34Z',\n",
       "   'Status': True,\n",
       "   'MonitoredStopVisit': [{'RecordedAtTime': '2023-01-18T01:23:46Z',\n",
       "     'MonitoringRef': '16121',\n",
       "     'MonitoredVehicleJourney': {'LineRef': '48',\n",
       "      'DirectionRef': 'IB',\n",
       "      'FramedVehicleJourneyRef': {'DataFrameRef': '2023-01-17',\n",
       "       'DatedVehicleJourneyRef': '11082379_M11'},\n",
       "      'PublishedLineName': 'QUINTARA-24TH STREET',\n",
       "      'OperatorRef': 'SF',\n",
       "      'OriginRef': '14781',\n",
       "      'OriginName': 'Lower Great Hwy & Rivera St',\n",
       "      'DestinationRef': '13411',\n",
       "      'DestinationName': '3rd St + 20th St',\n",
       "      'Monitored': True,\n",
       "      'InCongestion': None,\n",
       "      'VehicleLocation': {'Longitude': '-122.45327', 'Latitude': '37.7445831'},\n",
       "      'Bearing': '53.0000000000',\n",
       "      'Occupancy': 'seatsAvailable',\n",
       "      'VehicleRef': '8720',\n",
       "      'MonitoredCall': {'StopPointRef': '16121',\n",
       "       'StopPointName': 'Portola Dr & Teresita Blvd',\n",
       "       'VehicleLocationAtStop': '',\n",
       "       'VehicleAtStop': 'true',\n",
       "       'AimedArrivalTime': '2023-01-18T01:23:18Z',\n",
       "       'ExpectedArrivalTime': '2023-01-18T01:23:56Z',\n",
       "       'AimedDepartureTime': '2023-01-18T01:23:18Z',\n",
       "       'ExpectedDepartureTime': None,\n",
       "       'Distances': ''}}},\n",
       "    {'RecordedAtTime': '2023-01-18T01:23:46Z',\n",
       "     'MonitoringRef': '16121',\n",
       "     'MonitoredVehicleJourney': {'LineRef': 'LBUS',\n",
       "      'DirectionRef': 'IB',\n",
       "      'FramedVehicleJourneyRef': {'DataFrameRef': '2023-01-17',\n",
       "       'DatedVehicleJourneyRef': '11242290_M11'},\n",
       "      'PublishedLineName': 'TARAVAL BUS',\n",
       "      'OperatorRef': 'SF',\n",
       "      'OriginRef': '16932',\n",
       "      'OriginName': 'Wawona/46th Ave /Sf Zoo',\n",
       "      'DestinationRef': '16497',\n",
       "      'DestinationName': 'Embarcadero',\n",
       "      'Monitored': True,\n",
       "      'InCongestion': None,\n",
       "      'VehicleLocation': {'Longitude': '-122.466202',\n",
       "       'Latitude': '37.7410622'},\n",
       "      'Bearing': '122.0000000000',\n",
       "      'Occupancy': 'seatsAvailable',\n",
       "      'VehicleRef': '8647',\n",
       "      'MonitoredCall': {'StopPointRef': '16121',\n",
       "       'StopPointName': 'Portola Dr & Teresita Blvd',\n",
       "       'VehicleLocationAtStop': '',\n",
       "       'VehicleAtStop': 'false',\n",
       "       'AimedArrivalTime': '2023-01-18T01:28:32Z',\n",
       "       'ExpectedArrivalTime': '2023-01-18T01:28:44Z',\n",
       "       'AimedDepartureTime': '2023-01-18T01:28:32Z',\n",
       "       'ExpectedDepartureTime': None,\n",
       "       'Distances': ''}}},\n",
       "    {'RecordedAtTime': '2023-01-18T01:23:46Z',\n",
       "     'MonitoringRef': '16121',\n",
       "     'MonitoredVehicleJourney': {'LineRef': '48',\n",
       "      'DirectionRef': 'IB',\n",
       "      'FramedVehicleJourneyRef': {'DataFrameRef': '2023-01-17',\n",
       "       'DatedVehicleJourneyRef': '11082380_M11'},\n",
       "      'PublishedLineName': 'QUINTARA-24TH STREET',\n",
       "      'OperatorRef': 'SF',\n",
       "      'OriginRef': '14781',\n",
       "      'OriginName': 'Lower Great Hwy & Rivera St',\n",
       "      'DestinationRef': '13411',\n",
       "      'DestinationName': '3rd St + 20th St',\n",
       "      'Monitored': True,\n",
       "      'InCongestion': None,\n",
       "      'VehicleLocation': {'Longitude': '-122.480583',\n",
       "       'Latitude': '37.7484283'},\n",
       "      'Bearing': '87.0000000000',\n",
       "      'Occupancy': 'seatsAvailable',\n",
       "      'VehicleRef': '8830',\n",
       "      'MonitoredCall': {'StopPointRef': '16121',\n",
       "       'StopPointName': 'Portola Dr & Teresita Blvd',\n",
       "       'VehicleLocationAtStop': '',\n",
       "       'VehicleAtStop': 'false',\n",
       "       'AimedArrivalTime': '2023-01-18T01:37:52Z',\n",
       "       'ExpectedArrivalTime': '2023-01-18T01:36:54Z',\n",
       "       'AimedDepartureTime': '2023-01-18T01:37:52Z',\n",
       "       'ExpectedDepartureTime': None,\n",
       "       'Distances': ''}}},\n",
       "    {'RecordedAtTime': '1970-01-01T00:00:00Z',\n",
       "     'MonitoringRef': '16121',\n",
       "     'MonitoredVehicleJourney': {'LineRef': '48',\n",
       "      'DirectionRef': 'IB',\n",
       "      'FramedVehicleJourneyRef': {'DataFrameRef': '2023-01-17',\n",
       "       'DatedVehicleJourneyRef': '11082381_M11'},\n",
       "      'PublishedLineName': 'QUINTARA-24TH STREET',\n",
       "      'OperatorRef': 'SF',\n",
       "      'OriginRef': '14781',\n",
       "      'OriginName': 'Lower Great Hwy & Rivera St',\n",
       "      'DestinationRef': '13411',\n",
       "      'DestinationName': '3rd St + 20th St',\n",
       "      'Monitored': True,\n",
       "      'InCongestion': None,\n",
       "      'VehicleLocation': {'Longitude': '', 'Latitude': ''},\n",
       "      'Bearing': None,\n",
       "      'Occupancy': None,\n",
       "      'VehicleRef': None,\n",
       "      'MonitoredCall': {'StopPointRef': '16121',\n",
       "       'StopPointName': 'Portola Dr & Teresita Blvd',\n",
       "       'VehicleLocationAtStop': '',\n",
       "       'VehicleAtStop': '',\n",
       "       'AimedArrivalTime': '2023-01-18T01:51:52Z',\n",
       "       'ExpectedArrivalTime': '2023-01-18T01:51:57Z',\n",
       "       'AimedDepartureTime': '2023-01-18T01:51:52Z',\n",
       "       'ExpectedDepartureTime': None,\n",
       "       'Distances': ''}}}]}}}"
      ]
     },
     "execution_count": 32,
     "metadata": {},
     "output_type": "execute_result"
    }
   ],
   "source": [
    "resp"
   ]
  },
  {
   "cell_type": "code",
   "execution_count": null,
   "metadata": {},
   "outputs": [],
   "source": []
  }
 ],
 "metadata": {
  "kernelspec": {
   "display_name": "Python 3 (ipykernel)",
   "language": "python",
   "name": "python3"
  },
  "language_info": {
   "codemirror_mode": {
    "name": "ipython",
    "version": 3
   },
   "file_extension": ".py",
   "mimetype": "text/x-python",
   "name": "python",
   "nbconvert_exporter": "python",
   "pygments_lexer": "ipython3",
   "version": "3.10.9"
  },
  "vscode": {
   "interpreter": {
    "hash": "a7a3c7022bc3352558a5f72e1c2e2fe30ff5ae616daccf9daa5b4f7bb75825be"
   }
  }
 },
 "nbformat": 4,
 "nbformat_minor": 2
}
