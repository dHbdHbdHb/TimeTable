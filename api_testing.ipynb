{
 "cells": [
  {
   "cell_type": "markdown",
   "metadata": {},
   "source": [
    "# Define API keys and libraries"
   ]
  },
  {
   "cell_type": "code",
   "execution_count": 6,
   "metadata": {},
   "outputs": [],
   "source": [
    "import json\n",
    "import requests\n",
    "import pandas as pd\n",
    "import numpy as np\n",
    "import re\n",
    "from datetime import datetime, timedelta\n",
    "from PIL import Image, ImageDraw, ImageFont"
   ]
  },
  {
   "cell_type": "code",
   "execution_count": 7,
   "metadata": {},
   "outputs": [],
   "source": [
    "api_key = 'da56733a-6d62-4da1-9d2f-4e882d46478b'"
   ]
  },
  {
   "cell_type": "markdown",
   "metadata": {},
   "source": [
    "# Define functions for calling API endpoints"
   ]
  },
  {
   "cell_type": "code",
   "execution_count": 8,
   "metadata": {},
   "outputs": [],
   "source": [
    "class api_511:\n",
    "    \n",
    "    def __init__(self, api_key):\n",
    "        self.api_key = api_key\n",
    "    \n",
    "    def get_request(self, url, params):\n",
    "        response = requests.get(\n",
    "            url = url,\n",
    "            params = {\n",
    "                'api_key': self.api_key,\n",
    "                **params\n",
    "            }\n",
    "        )\n",
    "        decoded = response.content.decode('utf-8-sig') # strip byte order mark from response\n",
    "        return json.loads(decoded)\n",
    "    \n",
    "    def get_stops(self, operator_id='SF'):\n",
    "        response = self.get_request(\n",
    "            url = 'http://api.511.org/transit/stops',\n",
    "            params = {\n",
    "                'format': 'json',\n",
    "                'operator_id': operator_id\n",
    "            }\n",
    "        )\n",
    "        stop_list = response['Contents']['dataObjects']['ScheduledStopPoint']\n",
    "        stop_df = pd.DataFrame([\n",
    "            {\n",
    "                'stop_id': d['id'],\n",
    "                'name': d['Name'],\n",
    "                'longitude': d['Location']['Longitude'],\n",
    "                'latitude': d['Location']['Latitude'],\n",
    "                'url': d['Url'],\n",
    "                'stop_type': d['StopType']\n",
    "            } for d in stop_list\n",
    "        ])\n",
    "        \n",
    "        return stop_df\n",
    "    \n",
    "    def get_stop_monitoring(self, stop_code, operator_id='SF'):\n",
    "        response = self.get_request(\n",
    "            url = 'http://api.511.org/transit/StopMonitoring',\n",
    "            params = {\n",
    "                'format': 'json',\n",
    "                'agency': operator_id,\n",
    "                #'route': route,  doesn't seem to make any difference\n",
    "                'stopCode': stop_code\n",
    "            }\n",
    "        )\n",
    "        \n",
    "        monitor_list = response['ServiceDelivery']['StopMonitoringDelivery']['MonitoredStopVisit']\n",
    "        monitor_df = pd.DataFrame([\n",
    "            {\n",
    "                'timestamp': d['RecordedAtTime'],\n",
    "                'line': d['MonitoredVehicleJourney']['LineRef'],\n",
    "                'line_name': d['MonitoredVehicleJourney']['PublishedLineName'],\n",
    "                'origin_stop_id': d['MonitoredVehicleJourney']['OriginRef'],\n",
    "                'origin_stop_name': d['MonitoredVehicleJourney']['OriginName'],\n",
    "                'destination_stop_id': d['MonitoredVehicleJourney']['DestinationRef'],\n",
    "                'destination_stop_name': d['MonitoredVehicleJourney']['DestinationName'],\n",
    "                'monitored_stop_id': d['MonitoredVehicleJourney']['MonitoredCall']['StopPointRef'],\n",
    "                'monitored_stop_name': d['MonitoredVehicleJourney']['MonitoredCall']['StopPointName'],\n",
    "                'is_monitored': d['MonitoredVehicleJourney']['Monitored'],\n",
    "                'vehicle_longitude': d['MonitoredVehicleJourney']['VehicleLocation']['Longitude'],\n",
    "                'vehicle_latitude': d['MonitoredVehicleJourney']['VehicleLocation']['Latitude'],\n",
    "                'aimed_arrival_time': d['MonitoredVehicleJourney']['MonitoredCall']['AimedArrivalTime'],\n",
    "                'expected_arrival_time': d['MonitoredVehicleJourney']['MonitoredCall']['ExpectedArrivalTime'],\n",
    "            } for d in monitor_list\n",
    "        ])\n",
    "        \n",
    "        return monitor_df"
   ]
  },
  {
   "cell_type": "code",
   "execution_count": 9,
   "metadata": {},
   "outputs": [],
   "source": [
    "api = api_511(api_key)"
   ]
  },
  {
   "cell_type": "code",
   "execution_count": 10,
   "metadata": {},
   "outputs": [],
   "source": [
    "#Create a dictionary of relevant stops\n",
    "stops_dict = {\n",
    "    'portola' : '16121', # Portola Dr & Teresita Blvd\n",
    "    'lh' : '15255', #Laguna Honda & Ulloa\n",
    "    'lh_to_hp' : '15254', # 43 going the other way\n",
    "    'oshaughn' : '15834', # 44 going the other way\n",
    "    'portola_lh' : '16113',\n",
    "    'woodside' : '16937', #Woodside towards Forest Hill\n",
    "    'woodsied_to_gp' : '16938', #Woodside towards Glen Park\n",
    "    'evelyn' : '16669', #Evelyn Way towards Forest Hill\n",
    "    'evelyn_to_gp' : '16665' #Evelyn Way towards Glen Park/Mission\n",
    "\n",
    "}"
   ]
  },
  {
   "attachments": {},
   "cell_type": "markdown",
   "metadata": {},
   "source": [
    "# Define functions to select relevant routes and information"
   ]
  },
  {
   "cell_type": "code",
   "execution_count": 11,
   "metadata": {},
   "outputs": [],
   "source": [
    "def format_time_delta(delta: timedelta) -> str:\n",
    "    seconds = int(delta.total_seconds())\n",
    "    secs_in_a_min = 60\n",
    "    minutes, seconds = divmod(seconds, secs_in_a_min)\n",
    "    time_fmt = f\"{minutes}:{seconds:02d}\"\n",
    "    return time_fmt"
   ]
  },
  {
   "cell_type": "code",
   "execution_count": 12,
   "metadata": {},
   "outputs": [],
   "source": [
    "def format_time(df, row, col):\n",
    "    time = datetime.strptime(re.subn('[T]', ' ', df.at[row,col])[0].replace('Z',''),'%Y-%m-%d %H:%M:%S')\n",
    "    return time"
   ]
  },
  {
   "cell_type": "code",
   "execution_count": 13,
   "metadata": {},
   "outputs": [],
   "source": [
    "def display_stop(df):\n",
    "    for i in range(df.shape[0]):\n",
    "        #Some reformatting of objs/strings in df to be in datetime format\n",
    "        timestamp = format_time(df, 0, 'timestamp')\n",
    "        first_arrival = format_time(df, i, 'expected_arrival_time')\n",
    "        first_line = df.at[i,'line']\n",
    "        direction = df.at[i, 'destination_stop_name']\n",
    "        delta = first_arrival - timestamp\n",
    "        if(delta < timedelta(minutes=25)):\n",
    "            print(format_display_time(delta, first_line, direction))"
   ]
  },
  {
   "cell_type": "code",
   "execution_count": 14,
   "metadata": {},
   "outputs": [],
   "source": [
    "def filter_by_time(df):\n",
    "    delta = []\n",
    "    for i in range(df.shape[0]):\n",
    "        #Some reformatting of objs/strings in df to be in datetime format\n",
    "        timestamp = format_time(df, 0, 'timestamp')\n",
    "        first_arrival = format_time(df, i, 'expected_arrival_time')\n",
    "        first_line = df.at[i,'line']\n",
    "        direction = df.at[i, 'destination_stop_name']\n",
    "        delta.append(first_arrival - timestamp)\n",
    "    df[\"time_till_departure\"] = delta\n",
    "    twentyfive = timedelta(minutes = 60)\n",
    "    df.sort_values(['line','destination_stop_name'], inplace=True, ignore_index=True)\n",
    "    return df.reset_index(drop = True)\n",
    "    #return df.loc[df['time_till_departure'] < twentyfive].reset_index(drop = True)"
   ]
  },
  {
   "cell_type": "code",
   "execution_count": 15,
   "metadata": {},
   "outputs": [],
   "source": [
    "def relevant_format(df):\n",
    "    df = filter_by_time(df)\n",
    "    pivot_df = pd.pivot_table(df, values = \"time_till_departure\", index=[\"line\",\"destination_stop_name\"], columns=df.groupby(['line',\"destination_stop_name\"]).cumcount())\n",
    "    pivot_df.columns = [f\"Arrival {i}\" for i in range(1, len(pivot_df.columns)+1)]\n",
    "    pivot_df = pivot_df.reset_index()\n",
    "    pivot_df = pivot_df.rename(columns={'line': 'Route', 'destination_stop_name': 'Destination', 'Arrival 1': 'Next Arrival'})\n",
    "    pivot_df = pivot_df.applymap(lambda x: format_time_delta(x) if isinstance(x, timedelta) else x)\n",
    "    pivot_df = pivot_df.fillna(\"No Next Arrival\")\n",
    "    pivot_df = pivot_df.replace(\"Bayview District - Hudson & Newhall\", 'Bayview')\n",
    "    if 'LBUS' in pivot_df['Destination'].values:\n",
    "        routes = ['36','36','43', '43', '44', '44', '48','48', '52', '52', 'LBUS','LBUS']\n",
    "        destinations = ['Forest Hill Station', \n",
    "                    'Valencia + Mission', \n",
    "                    'Fort Mason', \n",
    "                    'Munich + Geneva', \n",
    "                    'Bayview', \n",
    "                    'California + 6th Ave', \n",
    "                    '3rd St + 20th St', \n",
    "                    'Great Highway',\n",
    "                    'Forest Hill Station', \n",
    "                    'Persia + Prague', \n",
    "                    'Ferry Plaza', \n",
    "                    'SF Zoo'\n",
    "                    ]\n",
    "    else:\n",
    "        routes = ['36','36','43', '43', '44', '44', '48','48', '52', '52']\n",
    "        destinations = ['Forest Hill Station', \n",
    "                    'Valencia + Mission', \n",
    "                    'Fort Mason', \n",
    "                    'Munich + Geneva', \n",
    "                    'Bayview', \n",
    "                    'California + 6th Ave', \n",
    "                    '3rd St + 20th St', \n",
    "                    'Great Highway',\n",
    "                    'Forest Hill Station', \n",
    "                    'Persia + Prague', \n",
    "                    ]\n",
    "    column_names=['Route', 'Destination', 'Next Arrival', '2nd Arrival', '3rd Arrival']\n",
    "    empty_cols = pd.DataFrame(columns=column_names[2:])          \n",
    "    clean_df = pd.DataFrame({'Route':routes, 'Destination': destinations})\n",
    "    clean_df = pd.concat([clean_df, empty_cols], axis=1)\n",
    "    clean_df[['Next Arrival', '2nd Arrival', '3rd Arrival']] = \\\n",
    "        pivot_df.loc[:, ~pivot_df.columns.isin(['Route', 'Destination'])].iloc[:, :3].values\n",
    "    return clean_df"
   ]
  },
  {
   "attachments": {},
   "cell_type": "markdown",
   "metadata": {},
   "source": [
    "# Define function to create image for display"
   ]
  },
  {
   "cell_type": "code",
   "execution_count": 16,
   "metadata": {},
   "outputs": [],
   "source": [
    "def make_image(df):\n",
    "    # Get the dimensions of the table\n",
    "    num_cols, num_rows = df.shape[1], df.shape[0]\n",
    "    font_size = 16\n",
    "    font_data = ImageFont.truetype('/fonts/DIN Alternate Bold.ttf', font_size)\n",
    "    font_header = ImageFont.truetype('/fonts/SFCompact.ttf', 20)\n",
    "    font_route = ImageFont.truetype('/fonts/SFCompact.ttf', 35)\n",
    "    padding = 10\n",
    "    line_height = font_size + padding\n",
    "\n",
    "    # Set the font and font size\n",
    "    font = ImageFont.truetype(\"DIN Alternate Bold.ttf\", size=20)\n",
    "    def max_bbox(cell, direction):\n",
    "        cell_cord = font_data.getbbox(cell, stroke_width=1)\n",
    "        if direction == 'width':\n",
    "            return cell_cord[2]-cell_cord[0]\n",
    "        else:\n",
    "            return cell_cord[3] - cell_cord[1]\n",
    "\n",
    "    # Calculate the width and height of each cell\n",
    "    cell_width = (df.applymap(lambda x: max_bbox(x, 'width'))).to_numpy().max()\n",
    "    cell_height = (df.applymap(lambda x: max_bbox(x, 'height'))).to_numpy().max()\n",
    "\n",
    "    # Set the dimensions of the image\n",
    "    image_width = 180*5 + padding\n",
    "    image_height = 400 \n",
    "\n",
    "    # Create the image\n",
    "    image = Image.new(\"RGB\", (image_width, image_height), color=(255, 255, 255))\n",
    "    draw = ImageDraw.Draw(image)\n",
    "\n",
    "    # Draw the table headers\n",
    "    x = padding\n",
    "    y = padding\n",
    "    for header in df.columns:\n",
    "        draw.rectangle((x - padding, y , x + 170, y + (cell_height + padding)*2), fill=(194, 136, 74), outline=(0, 0, 0))\n",
    "        draw.text((x + padding*2, y + padding), header, font=font_header, fill=0)\n",
    "        x += 180  # adjust the column width as needed\n",
    "    draw.line((0, y + 48, image_width - padding, y + 48), fill=(0, 0, 0), width=8)\n",
    "\n",
    "    #Draw the rows with destination and times.  Loops through rows first\n",
    "    for i, row in df.iterrows():\n",
    "        x = padding\n",
    "        for j, val in enumerate(row):\n",
    "            y = (cell_height+padding) * (i + 2)\n",
    "            if j >= 1:\n",
    "                if i%2 == 1:\n",
    "                    draw.rectangle((x-padding, y + 10, x + 170, y + cell_height*2+3), fill=(211, 211, 211))\n",
    "                draw.text((x - 5, y + padding), str(val), font=font, fill=(0, 0, 0))\n",
    "                draw.line((x - 10 ,y + padding, x-10 ,y+(cell_height*2)), fill=(0,0,0), width=1)\n",
    "            elif i%2 == 1:\n",
    "                draw.rectangle((x- padding, y - 16, x + cell_width + 35, y + cell_height + 20), fill=(150, 94, 209), outline=(0, 0, 0))\n",
    "                draw.text((x + 25, y - padding), str(val), font=font_route, fill=(0, 0, 0))\n",
    "            x += 180\n",
    "            # Draw vertical lines between columns\n",
    "            draw.line((x - 10 ,y + padding, x-10 ,y+(cell_height*2)+3), fill=(0,0,0), width=1)\n",
    "        # Draw horizontal lines between rows\n",
    "        y = (cell_height+padding) * (i + 2) \n",
    "        draw.line((180, y+padding, image_width - padding, y + padding), fill=(0, 0, 0), width=1)\n",
    "        draw.line((180, y+padding+(cell_height+padding), image_width - padding, y + padding +(cell_height+padding)), fill=(0, 0, 0), width=1)\n",
    "    # save the image\n",
    "    image.save(\"test.png\")\n",
    "    # return the image\n",
    "    return image"
   ]
  },
  {
   "attachments": {},
   "cell_type": "markdown",
   "metadata": {},
   "source": [
    "# Run relevant functions"
   ]
  },
  {
   "cell_type": "code",
   "execution_count": 17,
   "metadata": {},
   "outputs": [
    {
     "data": {
      "image/png": "[encoded data removed]",
      "text/plain": [
       "<PIL.Image.Image image mode=RGB size=910x400>"
      ]
     },
     "execution_count": 17,
     "metadata": {},
     "output_type": "execute_result"
    }
   ],
   "source": [
    "local_df = pd.DataFrame()\n",
    "for values in stops_dict.values():\n",
    "    local_df = pd.concat([local_df, api.get_stop_monitoring(values)], ignore_index=True)\n",
    "relevant_df = relevant_format(local_df)\n",
    "make_image(relevant_df)"
   ]
  }
 ],
 "metadata": {
  "kernelspec": {
   "display_name": "Python 3 (ipykernel)",
   "language": "python",
   "name": "python3"
  },
  "language_info": {
   "codemirror_mode": {
    "name": "ipython",
    "version": 3
   },
   "file_extension": ".py",
   "mimetype": "text/x-python",
   "name": "python",
   "nbconvert_exporter": "python",
   "pygments_lexer": "ipython3",
   "version": "3.10.4 (main, Mar 31 2022, 03:37:37) [Clang 12.0.0 ]"
  },
  "vscode": {
   "interpreter": {
    "hash": "a7a3c7022bc3352558a5f72e1c2e2fe30ff5ae616daccf9daa5b4f7bb75825be"
   }
  }
 },
 "nbformat": 4,
 "nbformat_minor": 2
}
